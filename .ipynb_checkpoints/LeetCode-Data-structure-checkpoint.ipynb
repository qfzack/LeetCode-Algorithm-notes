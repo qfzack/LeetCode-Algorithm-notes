{
 "cells": [
  {
   "cell_type": "markdown",
   "metadata": {},
   "source": [
    "# 链表"
   ]
  },
  {
   "cell_type": "code",
   "execution_count": 260,
   "metadata": {
    "code_folding": [
     0,
     11
    ]
   },
   "outputs": [
    {
     "name": "stdout",
     "output_type": "stream",
     "text": [
      "输入链表数据：\n",
      "nums: [4, 2, 1, 3]\n",
      "表头节点：head\n"
     ]
    }
   ],
   "source": [
    "class ListNode:\n",
    "    def __init__(self,x):\n",
    "        self.val = x\n",
    "        self.next = None\n",
    "\n",
    "#接收输入数据\n",
    "nums = list(input('输入链表数据：'))\n",
    "if len(nums)>0:\n",
    "    nums = [int(i) for i in nums]\n",
    "else:\n",
    "    nums = [4,2,1,3]\n",
    "print(f'nums: {nums}')\n",
    "\n",
    "#输入表头节点，输出整个链表\n",
    "def output(result):\n",
    "    n = result\n",
    "    l = []\n",
    "    while n:\n",
    "        l.append(n.val)\n",
    "        n = n.next\n",
    "    print(f'链表数组为：{l}')\n",
    "\n",
    "first = ListNode(nums[0])  #创建表头节点\n",
    "head = first  #保存链表的头节点\n",
    "\n",
    "#创建链表\n",
    "for i in range(1,len(nums)):\n",
    "    \n",
    "    first.next = ListNode(nums[i])\n",
    "    first = first.next\n",
    "\n",
    "print('表头节点：head')"
   ]
  },
  {
   "cell_type": "markdown",
   "metadata": {
    "heading_collapsed": true
   },
   "source": [
    "## NO.24 两两交换链表中的节点"
   ]
  },
  {
   "cell_type": "markdown",
   "metadata": {
    "hidden": true
   },
   "source": [
    "给定一个链表，交换链表第1，2节点，第3，4节点......    \n",
    "其实这种题目很简单，只要事先想好每次指针需要怎么变换指向，还有就是需要考虑链表长度为0，1，2的特殊情况；  \n",
    "交换1，2节点的操作与之后的有点不一样，因此单独完成  "
   ]
  },
  {
   "cell_type": "code",
   "execution_count": 90,
   "metadata": {
    "hidden": true
   },
   "outputs": [
    {
     "name": "stdout",
     "output_type": "stream",
     "text": [
      "链表数组为：[2, 1, 4, 3, 5]\n"
     ]
    }
   ],
   "source": [
    "def swapPairs(head):\n",
    "    if not head or not head.next:\n",
    "        return head\n",
    "    pre = head\n",
    "    curr = head.next\n",
    "    if not head.next.next:\n",
    "        curr.next = pre\n",
    "        pre.next = None\n",
    "    pre.next = curr.next\n",
    "    curr.next = pre\n",
    "    head = curr\n",
    "    curr = pre.next\n",
    "    while curr and curr.next:\n",
    "        pre.next = curr.next\n",
    "        curr.next = curr.next.next\n",
    "        pre.next.next = curr\n",
    "        pre = curr\n",
    "        curr = curr.next\n",
    "    return head\n",
    "\n",
    "node = swapPairs(head)\n",
    "output(node)"
   ]
  },
  {
   "cell_type": "markdown",
   "metadata": {
    "heading_collapsed": true
   },
   "source": [
    "## NO.141 环形链表"
   ]
  },
  {
   "cell_type": "markdown",
   "metadata": {
    "hidden": true
   },
   "source": [
    "给定一个链表，判断链表中有没有环路，题目的意思是环路是从表尾有指向链表中间元素的链；  \n",
    "可以遍历链表，每次将链表节点放入列表中，如果有环路列表中的节点就会有重复，因此，每次只需要判断当前的节点是否已经在列表中了"
   ]
  },
  {
   "cell_type": "code",
   "execution_count": 82,
   "metadata": {
    "hidden": true
   },
   "outputs": [],
   "source": [
    "#创建环形链表\n",
    "tail = first  #表尾节点\n",
    "start = head.next  #环路的开始节点\n",
    "tail.next = start"
   ]
  },
  {
   "cell_type": "code",
   "execution_count": 83,
   "metadata": {
    "hidden": true
   },
   "outputs": [
    {
     "data": {
      "text/plain": [
       "True"
      ]
     },
     "execution_count": 83,
     "metadata": {},
     "output_type": "execute_result"
    }
   ],
   "source": [
    "def hasCycle(head):\n",
    "    Node = []\n",
    "    while head:\n",
    "        if head in Node:\n",
    "            return True\n",
    "        Node.append(head)\n",
    "        head = head.next\n",
    "    return False\n",
    "\n",
    "hasCycle(head)"
   ]
  },
  {
   "cell_type": "markdown",
   "metadata": {
    "hidden": true
   },
   "source": [
    "还有一种方法是快慢指针，快指针每次走两步，慢指针每次走一步，如果链表有环路，两个指针就会相遇；  \n",
    "听起来很简单，但代码更多"
   ]
  },
  {
   "cell_type": "code",
   "execution_count": 87,
   "metadata": {
    "hidden": true
   },
   "outputs": [
    {
     "data": {
      "text/plain": [
       "True"
      ]
     },
     "execution_count": 87,
     "metadata": {},
     "output_type": "execute_result"
    }
   ],
   "source": [
    "def hasCycle(head):\n",
    "    if not head:\n",
    "        return False\n",
    "    if not head.next:\n",
    "        return True if head.next==head else False\n",
    "    fast, slow = head, head\n",
    "    while fast and slow:\n",
    "        if fast.next:\n",
    "            fast = fast.next.next\n",
    "        else:\n",
    "            return False\n",
    "        slow = slow.next\n",
    "        if fast==slow:\n",
    "            return True\n",
    "    return False\n",
    "\n",
    "hasCycle(head)"
   ]
  },
  {
   "cell_type": "markdown",
   "metadata": {},
   "source": [
    "## NO.147 对链表进行插入排序"
   ]
  },
  {
   "cell_type": "markdown",
   "metadata": {},
   "source": [
    "又是一个思路很简单的问题，但是写的头都炸了；  \n",
    "给定一个链表，要求使用插入法对其进行排序，就是遇到比前一个节点值小的节点，就要在前面找到其正确位置并进行插入，最烦的是指针的变换;  \n",
    "有更简单一点的想法就是把需要插入的节点暂存，然后删掉，再在前面找到插入的位置；  "
   ]
  },
  {
   "cell_type": "code",
   "execution_count": 236,
   "metadata": {
    "code_folding": []
   },
   "outputs": [
    {
     "name": "stdout",
     "output_type": "stream",
     "text": [
      "链表数组为：[1, 2, 3, 4]\n"
     ]
    }
   ],
   "source": [
    "def insertionSortList(head):\n",
    "    if not head or not head.next:\n",
    "        return head\n",
    "    if not head.next.next:\n",
    "        if head.val <= head.next.val:\n",
    "            return head\n",
    "        else:\n",
    "            head.next.next = head\n",
    "            head = head.next\n",
    "            head.next.next = None\n",
    "            return head\n",
    "    n = ListNode(-float('inf'))\n",
    "    n.next = head\n",
    "    pre, curr, tmp = head, head.next, head.next.next\n",
    "    while tmp:\n",
    "        if pre.val > curr.val:\n",
    "            node = n\n",
    "            while node.next.val < curr.val:\n",
    "                node = node.next\n",
    "            curr.next = node.next\n",
    "            node.next = curr\n",
    "            pre.next = tmp\n",
    "            curr = tmp\n",
    "            tmp = curr.next\n",
    "        else:\n",
    "            pre = curr\n",
    "            curr = tmp\n",
    "            tmp = curr.next\n",
    "    if pre.val > curr.val:\n",
    "        node = n\n",
    "        while node.next.val < curr.val:\n",
    "            node = node.next\n",
    "        curr.next = node.next\n",
    "        node.next = curr\n",
    "        pre.next = None\n",
    "    return n.next\n",
    "\n",
    "result = insertionSortList(head)\n",
    "output(result)"
   ]
  },
  {
   "cell_type": "markdown",
   "metadata": {
    "heading_collapsed": true
   },
   "source": [
    "## NO.160 相交链表"
   ]
  },
  {
   "attachments": {
    "image.png": {
     "image/png": "[encoded data removed]"
    }
   },
   "cell_type": "raw",
   "metadata": {
    "hidden": true
   },
   "source": [
    "给定两个链表，两个链表中可能有一个节点相同（其后面的节点也都相同），如下图所示：  \n",
    "![image.png](attachment:image.png)  \n",
    "需要找到第一个相交的节点，如果两个链表不等长，使用两个指针的话不一定能同时找到相等的节点，有一个很巧妙的方法：  \n",
    "假设两个链表a和b的长度分别为m和n，如果遍历完a后遍历b，遍历完b后遍历a，那么遍历的长度都为m+n，并且如果有相同的节点两个指针会同时找到"
   ]
  },
  {
   "cell_type": "code",
   "execution_count": 85,
   "metadata": {
    "hidden": true
   },
   "outputs": [],
   "source": [
    "#不好用示例演示\n",
    "def getIntersevtionNode(headA,headB):\n",
    "    a, b = headA, headB\n",
    "    if a==None or b==None:\n",
    "        return \n",
    "    while a or b:\n",
    "        if a==b:\n",
    "            return a\n",
    "        if a.next==b.next==None:  #终止条件\n",
    "            return \n",
    "        a = a.next if a.next else headB\n",
    "        b = b.next if b.next else headA"
   ]
  },
  {
   "cell_type": "markdown",
   "metadata": {
    "heading_collapsed": true
   },
   "source": [
    "## NO.203 移除链表元素"
   ]
  },
  {
   "cell_type": "markdown",
   "metadata": {
    "hidden": true
   },
   "source": [
    "给出一个链表和一个数值，删除链表中值与数值相等的节点；  \n",
    "之前一直没懂怎么删除链表的表头，其实只要将表头向后移一下，然后返回表头的时候，第一个节点自然就没了"
   ]
  },
  {
   "cell_type": "code",
   "execution_count": 74,
   "metadata": {
    "hidden": true
   },
   "outputs": [
    {
     "name": "stdout",
     "output_type": "stream",
     "text": [
      "链表数组为：[1, 2, 3, 4, 5]\n"
     ]
    }
   ],
   "source": [
    "def removeElements(head,val):\n",
    "    curr = head\n",
    "    while curr and curr.val==val:\n",
    "        curr = curr.next\n",
    "    if curr is None:\n",
    "        return None\n",
    "    head = curr\n",
    "    while curr.next:\n",
    "        while curr.next and curr.next.val==val:\n",
    "            curr.next = curr.next.next\n",
    "        if curr.next:\n",
    "            curr = curr.next\n",
    "    return head\n",
    "\n",
    "result = removeElements(head,6)\n",
    "output(result)"
   ]
  },
  {
   "cell_type": "markdown",
   "metadata": {
    "heading_collapsed": true
   },
   "source": [
    "## NO.206 反转链表"
   ]
  },
  {
   "cell_type": "markdown",
   "metadata": {
    "hidden": true
   },
   "source": [
    "反转链表是链表操作中的基本方法，链表不同于数组，只能一个节点一个节点地遍历，因此可以每次修改节点间指针的方向，但是指针断开时候就无法找到之前指向的节点，因此需要临时变量来存放这个节点的值，使指针指向的改变不影响链表的遍历；  \n",
    "遍历链表，当前节点用curr记录，前一个节点用pre记录，后一个节点用temp记录，因为每次需要断开curr指向temp的指针，使其指向pre，因此需要这些变量来保存值使得遍历能够进行；  \n",
    "每次遍历中修改指针方向后，将curr的值给pre，temp的值给curr，直到结束，pre存放的就是新链表的表头；  "
   ]
  },
  {
   "cell_type": "code",
   "execution_count": 53,
   "metadata": {
    "hidden": true
   },
   "outputs": [
    {
     "name": "stdout",
     "output_type": "stream",
     "text": [
      "链表数组为：[9, 8, 7, 6, 5, 4, 3, 2, 1]\n"
     ]
    }
   ],
   "source": [
    "def reverseList(head):\n",
    "    pre = None\n",
    "    curr = head\n",
    "    while curr:\n",
    "        temp = curr.next\n",
    "        curr.next = pre\n",
    "        pre = curr\n",
    "        curr = temp\n",
    "    return pre\n",
    "\n",
    "output(reverseList(result))"
   ]
  },
  {
   "cell_type": "code",
   "execution_count": null,
   "metadata": {
    "hidden": true
   },
   "outputs": [],
   "source": []
  },
  {
   "cell_type": "markdown",
   "metadata": {
    "heading_collapsed": true
   },
   "source": [
    "## NO.237 删除链表中的节点"
   ]
  },
  {
   "cell_type": "markdown",
   "metadata": {
    "hidden": true
   },
   "source": [
    "给定的是链表中一个节点node，要在链表中删除这个节点，最简单的想法是找到node的前一个节点，令其指向node的后一个节点；  \n",
    "但是这里无法找到前一个节点，因此可以将node的后一节点的val复制到node，然后令node指向node.next.next"
   ]
  },
  {
   "cell_type": "code",
   "execution_count": 48,
   "metadata": {
    "hidden": true
   },
   "outputs": [
    {
     "data": {
      "text/plain": [
       "7"
      ]
     },
     "execution_count": 48,
     "metadata": {},
     "output_type": "execute_result"
    }
   ],
   "source": [
    "node = result.next\n",
    "node.val"
   ]
  },
  {
   "cell_type": "code",
   "execution_count": 49,
   "metadata": {
    "hidden": true
   },
   "outputs": [
    {
     "name": "stdout",
     "output_type": "stream",
     "text": [
      "链表数组为：[5, 6, 4, 6, 5, 3]\n"
     ]
    }
   ],
   "source": [
    "def deleteNode(node):\n",
    "    node.val = node.next.val\n",
    "    node.next = node.next.next\n",
    "    \n",
    "deleteNode(node)\n",
    "output(result)"
   ]
  },
  {
   "cell_type": "markdown",
   "metadata": {},
   "source": [
    "## NO.328 奇偶链表"
   ]
  },
  {
   "cell_type": "markdown",
   "metadata": {},
   "source": [
    "给定一个链表，将奇数位置的节点放在链表的前面，将偶数位置的节点放在链表的后面  ()"
   ]
  },
  {
   "cell_type": "code",
   "execution_count": 152,
   "metadata": {},
   "outputs": [
    {
     "name": "stdout",
     "output_type": "stream",
     "text": [
      "3\n",
      "5\n",
      "链表数组为：[1, 3, 5, 2, 4]\n"
     ]
    }
   ],
   "source": [
    "def oddEvenList(head):\n",
    "    if head and head.next.next and head.next.next:\n",
    "        head1, head2, node = head, head.next, head.next.next\n",
    "    else:\n",
    "        return head\n",
    "    l1, l2 = head1, head2\n",
    "    while node:\n",
    "        l1.next = node\n",
    "        print(node.val)\n",
    "        l2.next = node.next\n",
    "        l1, l2 = l1.next, l2.next\n",
    "        if node.next:\n",
    "            node = node.next.next\n",
    "        else:\n",
    "            node = node.next\n",
    "    if l2:\n",
    "        l2.next = None\n",
    "    l1.next = head2\n",
    "    return head1\n",
    "\n",
    "result = oddEvenList(head)\n",
    "output(result)"
   ]
  },
  {
   "cell_type": "markdown",
   "metadata": {
    "heading_collapsed": true
   },
   "source": [
    "## NO.876 链表的中间节点"
   ]
  },
  {
   "cell_type": "markdown",
   "metadata": {
    "hidden": true
   },
   "source": [
    "给出一个链表，找到链表的中间节点,如果中间是两个节点，返回后一个，返回的是节点不是值"
   ]
  },
  {
   "cell_type": "code",
   "execution_count": 68,
   "metadata": {
    "hidden": true
   },
   "outputs": [
    {
     "name": "stdout",
     "output_type": "stream",
     "text": [
      "链表数组为：[3, 4, 5]\n"
     ]
    }
   ],
   "source": [
    "#最笨的方法，先遍历一遍找到数组的长度，在第二遍遍历到中间返回中间节点\n",
    "def middleNode(head):\n",
    "    length = 0\n",
    "    node = head\n",
    "    while node:\n",
    "        length += 1\n",
    "        node = node.next\n",
    "    for i in range(length//2):\n",
    "        head = head.next\n",
    "    return head\n",
    "\n",
    "result = middleNode(head)\n",
    "output(result)"
   ]
  },
  {
   "cell_type": "code",
   "execution_count": 70,
   "metadata": {
    "hidden": true
   },
   "outputs": [
    {
     "name": "stdout",
     "output_type": "stream",
     "text": [
      "链表数组为：[3, 4, 5]\n"
     ]
    }
   ],
   "source": [
    "#还可以用一个列表保存所有的节点，链表不可以用索引，但是列表可以，因此在列表中可以直接找到中间节点\n",
    "def middleNode(head):\n",
    "    Node = []\n",
    "    while head:\n",
    "        Node.append(head)\n",
    "        head = head.next\n",
    "    return Node[len(Node)//2]\n",
    "\n",
    "result = middleNode(head)\n",
    "output(result)"
   ]
  },
  {
   "cell_type": "code",
   "execution_count": 69,
   "metadata": {
    "hidden": true
   },
   "outputs": [
    {
     "name": "stdout",
     "output_type": "stream",
     "text": [
      "3\n",
      "链表数组为：[3, 4, 5]\n"
     ]
    }
   ],
   "source": [
    "#比较巧妙的方法是用两个指针slow和fast，slow每次走一步，fast每次走两步，当fast走到最后，slow就指向中间节点\n",
    "def middleNode(head):\n",
    "    slow = head\n",
    "    fast = head\n",
    "    while fast and fast.next:\n",
    "        fast = fast.next.next\n",
    "        slow = slow.next\n",
    "    return slow\n",
    "\n",
    "result = middleNode(head)\n",
    "output(result)"
   ]
  },
  {
   "cell_type": "code",
   "execution_count": null,
   "metadata": {
    "hidden": true
   },
   "outputs": [],
   "source": []
  },
  {
   "cell_type": "markdown",
   "metadata": {
    "heading_collapsed": true
   },
   "source": [
    "# 栈"
   ]
  },
  {
   "cell_type": "markdown",
   "metadata": {
    "heading_collapsed": true,
    "hidden": true
   },
   "source": [
    "## NO.94 二叉树的中序遍历"
   ]
  },
  {
   "cell_type": "markdown",
   "metadata": {
    "hidden": true
   },
   "source": [
    "方法一：递归           \n",
    "思想非常简单，就是先遍历树的左节点，再遍历根节点，再遍历右节点，但是使用递归的话，需要考虑每次返回的值        \n",
    "由于没有事先定义一棵树，因此代码不能运行 "
   ]
  },
  {
   "cell_type": "code",
   "execution_count": 37,
   "metadata": {
    "hidden": true
   },
   "outputs": [],
   "source": [
    "class Solution:\n",
    "    def inorderTraversal(self, root):\n",
    "        if root:\n",
    "            return self.inorderTraversal(root.left)+[root.val]+self.inorderTraversal(root.right)\n",
    "        else:\n",
    "            return []"
   ]
  },
  {
   "cell_type": "markdown",
   "metadata": {
    "hidden": true
   },
   "source": [
    "方法二：迭代        \n",
    "从树的根节点开始，将根节点的左节点依次入栈        \n",
    "弹出栈顶元素，保存元素的值，此时，最左下节点的父节点的左子树遍历完成，并且最左下节点的子节点一定为空        \n",
    "栈的下一个元素就是最左下节点的父节点，保存它的值，并遍历其右子树，依次进行下去。。。直到栈空"
   ]
  },
  {
   "cell_type": "code",
   "execution_count": 41,
   "metadata": {
    "hidden": true
   },
   "outputs": [],
   "source": [
    "class Solution:\n",
    "    def inorderTraversal(self,root):\n",
    "        r, stack = [], []\n",
    "        while True:\n",
    "            while root:\n",
    "                stack.append(root)\n",
    "                root = root.left\n",
    "            if not stack:\n",
    "                return r\n",
    "            node = stack.pop()\n",
    "            r.append(node.val)\n",
    "            root = node.right\n",
    "        return r"
   ]
  },
  {
   "cell_type": "markdown",
   "metadata": {
    "heading_collapsed": true,
    "hidden": true
   },
   "source": [
    "## NO.144 二叉树的前序遍历"
   ]
  },
  {
   "cell_type": "markdown",
   "metadata": {
    "hidden": true
   },
   "source": [
    "方法一：递归         \n",
    "与二叉树的中序遍历非常像，就是先遍历树的根节点"
   ]
  },
  {
   "cell_type": "code",
   "execution_count": 2,
   "metadata": {
    "hidden": true
   },
   "outputs": [],
   "source": [
    "class Solution:\n",
    "    def preorderTraversal(self,root):\n",
    "        if root:\n",
    "            return [root.val]+self.preorderTraversal(root.left)+self.preorderTraversal(root.right)\n",
    "        else:\n",
    "            return []"
   ]
  },
  {
   "cell_type": "markdown",
   "metadata": {
    "hidden": true
   },
   "source": [
    "方法二：迭代              \n",
    "使用迭代方法的话，先把树的根节点入栈，然后弹出栈顶元素（根节点），先将元素的右子树入栈，再将元素的左子树（根节点）入栈，下一次弹出栈顶元素就是左子树的根节点，然后再将根节点的右子树与左子树入栈              \n",
    "以此进行下去，当第一个节点的左子树遍历完成，栈中的下一个元素就是右子树的根节点，就开始遍历其右子树，运行直到栈空"
   ]
  },
  {
   "cell_type": "code",
   "execution_count": 4,
   "metadata": {
    "hidden": true
   },
   "outputs": [],
   "source": [
    "class Solution:\n",
    "    def preorderTraversal(self,root):\n",
    "        stack, r = [root], []\n",
    "        while stack:\n",
    "            root = stack.pop()\n",
    "            if root:\n",
    "                r.append(root.val)\n",
    "                if root.right:\n",
    "                    stack.append(root.right)\n",
    "                if root.left:\n",
    "                    stack.append(root.left)\n",
    "        return r"
   ]
  },
  {
   "cell_type": "markdown",
   "metadata": {
    "heading_collapsed": true,
    "hidden": true
   },
   "source": [
    "## NO.150 逆波兰表达式求值"
   ]
  },
  {
   "cell_type": "markdown",
   "metadata": {
    "hidden": true
   },
   "source": [
    "逆波兰式其实就是后缀表达式，包含+，-，*，/ 四种运算，每个运算的对象可以是整数，也可以是另外一个逆波兰式"
   ]
  },
  {
   "cell_type": "code",
   "execution_count": 8,
   "metadata": {
    "collapsed": true,
    "hidden": true
   },
   "outputs": [
    {
     "name": "stdout",
     "output_type": "stream",
     "text": [
      "True\n",
      "False\n"
     ]
    }
   ],
   "source": [
    "#Python中的isdigit函数只能判断整数，无法判断负数\n",
    "a = '1'\n",
    "b = '-1'\n",
    "print(a.isdigit())\n",
    "print(b.isdigit())"
   ]
  },
  {
   "cell_type": "markdown",
   "metadata": {
    "hidden": true
   },
   "source": [
    "使用栈求逆波兰式的值，对于表达式当前的元素；                 \n",
    "如果是数字，就将其进栈；                     \n",
    "如果是运算符，就从栈顶弹出两个元素及进行运算并将运算结果进栈；                  \n",
    "最终，栈内只会剩下最后的运算结果"
   ]
  },
  {
   "cell_type": "code",
   "execution_count": 17,
   "metadata": {
    "collapsed": true,
    "hidden": true
   },
   "outputs": [
    {
     "name": "stdout",
     "output_type": "stream",
     "text": [
      "当前的栈为：[]，下一个元素为：10\n",
      "当前的栈为：[10]，下一个元素为：6\n",
      "当前的栈为：[10, 6]，下一个元素为：9\n",
      "当前的栈为：[10, 6, 9]，下一个元素为：3\n",
      "当前的栈为：[10, 6, 9, 3]，下一个元素为：+\n",
      "当前的栈为：[10, 6, 12]，下一个元素为：-11\n",
      "当前的栈为：[10, 6, 12, -11]，下一个元素为：*\n",
      "当前的栈为：[10, 6, -132]，下一个元素为：/\n",
      "当前的栈为：[10, 0]，下一个元素为：*\n",
      "当前的栈为：[0]，下一个元素为：17\n",
      "当前的栈为：[0, 17]，下一个元素为：+\n",
      "当前的栈为：[17]，下一个元素为：5\n",
      "当前的栈为：[17, 5]，下一个元素为：+\n",
      "22\n"
     ]
    }
   ],
   "source": [
    "tokens = [\"10\", \"6\", \"9\", \"3\", \"+\", \"-11\", \"*\", \"/\", \"*\", \"17\", \"+\", \"5\", \"+\"]\n",
    "\n",
    "stack = []\n",
    "for t in tokens:\n",
    "    print(f'当前的栈为：{stack}，下一个元素为：{t}')\n",
    "    if t.isdigit() or t[1:].isdigit():\n",
    "        stack.append(int(t))\n",
    "    else:\n",
    "        y = int(stack.pop())\n",
    "        x = int(stack.pop())\n",
    "        if t == '+':\n",
    "            stack.append(x+y)\n",
    "        elif t == '-':\n",
    "            stack.append(x-y)\n",
    "        elif t == '*':\n",
    "            stack.append(x*y)\n",
    "        elif t == '/':\n",
    "            stack.append(int(x/y))\n",
    "print(stack[0])"
   ]
  },
  {
   "cell_type": "markdown",
   "metadata": {
    "heading_collapsed": true,
    "hidden": true
   },
   "source": [
    "## NO.155 最小栈"
   ]
  },
  {
   "cell_type": "markdown",
   "metadata": {
    "hidden": true
   },
   "source": [
    "设计一个可以进行push（将元素入栈），pop（删除栈顶元素），top（获取栈顶元素），getMin（在常数时间找到最小元素）操作的栈；         \n",
    "本题的目的是写一个类，第一次写的话还是要注意python3中是怎么定义类的；       \n",
    "想push，pop，getMin操作，在python的list中可以直接用append，pop，min做到，但是这样感觉不是题目的本意"
   ]
  },
  {
   "cell_type": "code",
   "execution_count": 21,
   "metadata": {
    "collapsed": true,
    "hidden": true
   },
   "outputs": [
    {
     "name": "stdout",
     "output_type": "stream",
     "text": [
      "b\n",
      "a\n"
     ]
    }
   ],
   "source": [
    "class MinStack:\n",
    "    def __init__(self):\n",
    "        self.stack = []\n",
    "        self.min = None  #d使用min来保存最小的值\n",
    "        \n",
    "    def push(self,x):\n",
    "        if self.min==None or x<self.min:\n",
    "            self.min = x\n",
    "        self.stack.append(x)\n",
    "        \n",
    "    def pop(self):\n",
    "        self.stack.pop()\n",
    "        \n",
    "    def top(self):\n",
    "        return self.stack[-1]    \n",
    "    \n",
    "    def getMin(self):\n",
    "        return self.min\n",
    "\n",
    "L = MinStack()\n",
    "L.push('a')\n",
    "L.push('b')\n",
    "L.push('c')\n",
    "L.pop()\n",
    "\n",
    "element1 = L.top()\n",
    "print(element1)\n",
    "\n",
    "element2 = L.getMin()\n",
    "print(element2)"
   ]
  },
  {
   "cell_type": "markdown",
   "metadata": {
    "heading_collapsed": true,
    "hidden": true
   },
   "source": [
    "## NO.225 用栈实现队列"
   ]
  },
  {
   "cell_type": "code",
   "execution_count": 24,
   "metadata": {
    "hidden": true
   },
   "outputs": [
    {
     "name": "stdout",
     "output_type": "stream",
     "text": [
      "b\n",
      "False\n"
     ]
    }
   ],
   "source": [
    "class MyStack:\n",
    "    def __init__(self):\n",
    "        self.stack = []\n",
    "        self.len = 0\n",
    "        \n",
    "    def push(self,x):\n",
    "        self.stack.append(x)\n",
    "        self.len += 1\n",
    "    \n",
    "    def pop(self):\n",
    "        self.len -= 1\n",
    "        return self.stack.pop()\n",
    "    \n",
    "    def top(self):\n",
    "        return self.stack[-1]\n",
    "    \n",
    "    def empty(self):\n",
    "        return self.len<=0\n",
    "    \n",
    "L = MyStack()\n",
    "L.push('a')\n",
    "L.push('b')\n",
    "L.push('c')\n",
    "L.pop()\n",
    "\n",
    "element1 = L.top()\n",
    "print(element1)\n",
    "print(L.empty())"
   ]
  },
  {
   "cell_type": "markdown",
   "metadata": {
    "heading_collapsed": true,
    "hidden": true
   },
   "source": [
    "## NO.232 用栈实现队列"
   ]
  },
  {
   "cell_type": "code",
   "execution_count": 35,
   "metadata": {
    "hidden": true
   },
   "outputs": [
    {
     "name": "stdout",
     "output_type": "stream",
     "text": [
      "b\n",
      "False\n"
     ]
    }
   ],
   "source": [
    "class MyQueue:\n",
    "    def __init__(self):\n",
    "        self.stack = []\n",
    "        self.len = 0\n",
    "    \n",
    "    def push(self,x):\n",
    "        self.len += 1\n",
    "        self.stack = [x]+self.stack\n",
    "    \n",
    "    def pop(self):\n",
    "        self.len -= 1\n",
    "        return self.stack.pop()\n",
    "    \n",
    "    def peek(self):\n",
    "        return self.stack[-1]\n",
    "    \n",
    "    def empty(self):\n",
    "        return self.len<=0\n",
    "\n",
    "L = MyQueue()\n",
    "L.push('a')\n",
    "L.push('b')\n",
    "L.push('c')\n",
    "L.pop()\n",
    "\n",
    "elements1 = L.peek()\n",
    "print(element1)\n",
    "print(L.empty())"
   ]
  },
  {
   "cell_type": "markdown",
   "metadata": {
    "heading_collapsed": true,
    "hidden": true
   },
   "source": [
    "## NO.394 字符串解码"
   ]
  },
  {
   "cell_type": "markdown",
   "metadata": {
    "hidden": true
   },
   "source": [
    "使用两个栈，一个用与保存s中的元素，一个用于记录括号的位置，                      \n",
    "1.对于s的元素，如果不是']'，则依次入栈stack：                            \n",
    "如果是'['.则将其位置入栈index；                        \n",
    "如果当前的元素是数值型，需要看看栈内前一个元素是不是也是数值型，是的话需要进行连接组成一个数，否则直接入栈；                        \n",
    "对于字母直接入栈；          \n",
    "2.如果当前元素是']'，就将index栈顶元素弹出，即得到上一个对应的'['的位置，将'[]'中的元素乘上前面的倍数放入栈中取代之前的位置；"
   ]
  },
  {
   "cell_type": "code",
   "execution_count": 47,
   "metadata": {
    "hidden": true,
    "scrolled": true
   },
   "outputs": [
    {
     "name": "stdout",
     "output_type": "stream",
     "text": [
      "栈的下一个元素： 4\n",
      "更新后的栈： ['4']\n",
      "---------------\n",
      "栈的下一个元素： [\n",
      "更新后的栈： ['4', '[']\n",
      "---------------\n",
      "栈的下一个元素： 2\n",
      "更新后的栈： ['4', '[', '2']\n",
      "---------------\n",
      "栈的下一个元素： [\n",
      "更新后的栈： ['4', '[', '2', '[']\n",
      "---------------\n",
      "栈的下一个元素： j\n",
      "更新后的栈： ['4', '[', '2', '[', 'j']\n",
      "---------------\n",
      "栈的下一个元素： k\n",
      "更新后的栈： ['4', '[', '2', '[', 'j', 'k']\n",
      "---------------\n",
      "栈的下一个元素： ]\n",
      "列表乘以倍数： ['j', 'k', 'j', 'k']\n",
      "更新后的栈： ['4', '[', 'j', 'k', 'j', 'k']\n",
      "---------------\n",
      "栈的下一个元素： e\n",
      "更新后的栈： ['4', '[', 'j', 'k', 'j', 'k', 'e']\n",
      "---------------\n",
      "栈的下一个元素： 1\n",
      "更新后的栈： ['4', '[', 'j', 'k', 'j', 'k', 'e', '1']\n",
      "---------------\n",
      "栈的下一个元素： [\n",
      "更新后的栈： ['4', '[', 'j', 'k', 'j', 'k', 'e', '1', '[']\n",
      "---------------\n",
      "栈的下一个元素： f\n",
      "更新后的栈： ['4', '[', 'j', 'k', 'j', 'k', 'e', '1', '[', 'f']\n",
      "---------------\n",
      "栈的下一个元素： ]\n",
      "列表乘以倍数： ['f']\n",
      "更新后的栈： ['4', '[', 'j', 'k', 'j', 'k', 'e', 'f']\n",
      "---------------\n",
      "栈的下一个元素： ]\n",
      "列表乘以倍数： ['j', 'k', 'j', 'k', 'e', 'f', 'j', 'k', 'j', 'k', 'e', 'f', 'j', 'k', 'j', 'k', 'e', 'f', 'j', 'k', 'j', 'k', 'e', 'f']\n",
      "更新后的栈： ['j', 'k', 'j', 'k', 'e', 'f', 'j', 'k', 'j', 'k', 'e', 'f', 'j', 'k', 'j', 'k', 'e', 'f', 'j', 'k', 'j', 'k', 'e', 'f']\n",
      "---------------\n",
      "栈的下一个元素： e\n",
      "更新后的栈： ['j', 'k', 'j', 'k', 'e', 'f', 'j', 'k', 'j', 'k', 'e', 'f', 'j', 'k', 'j', 'k', 'e', 'f', 'j', 'k', 'j', 'k', 'e', 'f', 'e']\n",
      "---------------\n",
      "栈的下一个元素： f\n",
      "更新后的栈： ['j', 'k', 'j', 'k', 'e', 'f', 'j', 'k', 'j', 'k', 'e', 'f', 'j', 'k', 'j', 'k', 'e', 'f', 'j', 'k', 'j', 'k', 'e', 'f', 'e', 'f']\n",
      "---------------\n",
      "jkjkefjkjkefjkjkefjkjkefef\n"
     ]
    }
   ],
   "source": [
    "s = \"4[2[jk]e1[f]]ef\"\n",
    "\n",
    "stack = []\n",
    "index = []\n",
    "for i in s:\n",
    "    print('栈的下一个元素：',i)\n",
    "    if i != ']':\n",
    "        if i == '[':\n",
    "            index.append(len(stack))\n",
    "            stack.append(i)\n",
    "        elif len(stack)>0 and i.isdigit() and stack[-1].isdigit():\n",
    "            stack[-1] += i\n",
    "        else:\n",
    "            stack.append(i)\n",
    "    else:\n",
    "        ind = index.pop()\n",
    "        print('列表乘以倍数：',int(stack[ind-1])*stack[ind+1:])\n",
    "        stack[ind-1:] = int(stack[ind-1])*stack[ind+1:]\n",
    "    print('更新后的栈：',stack)\n",
    "    print('---------------')\n",
    "print(''.join(stack))"
   ]
  },
  {
   "cell_type": "markdown",
   "metadata": {
    "heading_collapsed": true,
    "hidden": true
   },
   "source": [
    "## NO.503 下一个更大的元素"
   ]
  },
  {
   "cell_type": "markdown",
   "metadata": {
    "hidden": true
   },
   "source": [
    "给定一个数组，从头开始，对于每个元素，找到下一个比它更大的元素，数组可以首尾相连"
   ]
  },
  {
   "cell_type": "markdown",
   "metadata": {
    "hidden": true
   },
   "source": [
    "方法一：最容易想到的方法就是对于每一个元素，都在其后面进行循环，找到下一个更大的元素，但是这种方法非常的耗时(果然，提交超时了)"
   ]
  },
  {
   "cell_type": "code",
   "execution_count": 29,
   "metadata": {
    "hidden": true,
    "scrolled": true
   },
   "outputs": [
    {
     "name": "stdout",
     "output_type": "stream",
     "text": [
      "[5, 6, 6, 8, -1]\n"
     ]
    }
   ],
   "source": [
    "nums = [1,5,3,6,8]\n",
    "L = [-1 for i in range(len(nums))]\n",
    "for i in range(len(nums)):\n",
    "    l = nums[i+1:]+nums[:i]\n",
    "    for j in l:\n",
    "        if j > nums[i]:\n",
    "            L[i] = j\n",
    "            break\n",
    "print(L)"
   ]
  },
  {
   "cell_type": "markdown",
   "metadata": {
    "hidden": true
   },
   "source": [
    "方法二：为了解决可以循环查找的问题，可以把nums数组连接两次进行扩展，对于扩展的nums，对其索引及进行遍历；             \n",
    "使用一个栈，每次把索引值入栈；\n",
    "如果当前的栈不为空并且栈顶索引对应的值小于当前遍历nums的值，就将当前遍历的值放到L的对应位置；            \n",
    "就拿nums=[5,4,3,2,1]作为例子来说，先用-1初始化L，将nums首尾相连进行扩展，对扩展的nums进行遍历，从0开始将nums的每个位置索引入栈，前面都没有执行while部分，直到将4入栈后，下一次循环i为5，满足while的循环条件，将nums[5]放在L[4]中，之后任然满足循环条件，将nums[5]放在L[3]中。。。如果有stack栈顶记录的索引对应的元素值大于当前遍历的值，就结束了while循环，将下一个索引入栈（真的是怎么想到的啊，多感悟一下吧）\n"
   ]
  },
  {
   "cell_type": "code",
   "execution_count": 41,
   "metadata": {
    "hidden": true
   },
   "outputs": [
    {
     "name": "stdout",
     "output_type": "stream",
     "text": [
      "[-1, 5, 5, 5, 5]\n"
     ]
    }
   ],
   "source": [
    "nums = [5,4,3,2,1]\n",
    "L = [-1 for i in range(len(nums))]\n",
    "stack = []\n",
    "nums += nums\n",
    "for i in range(len(nums)):\n",
    "    while stack and nums[stack[-1]] < nums[i]:\n",
    "        L[stack.pop()%len(L)] = nums[i]\n",
    "    stack.append(i)\n",
    "print(L)"
   ]
  },
  {
   "cell_type": "markdown",
   "metadata": {
    "heading_collapsed": true,
    "hidden": true
   },
   "source": [
    "## NO.636 函数的独占时间"
   ]
  },
  {
   "cell_type": "markdown",
   "metadata": {
    "hidden": true
   },
   "source": [
    "利用栈求解的一道题，logs中每个元素都包含3个值，函数id，起始或终止标识，起始或终止时间；               \n",
    "遍历logs，如果标志是start，就把id和时间入栈；               \n",
    "如果标志是end，就弹出栈顶元素，栈顶元素表示的是函数的开始，当前的log表示的是函数的结束，由此计算函数的占用时间，并保存；           \n",
    "接下来的问题在于，如果一个函数中有另外一个函数运行占用了时间，那么需要减去该函数的占用时间；                        \n",
    "为了解决这个问题，在遍历到end的log时，在运行以上的步骤后，再判断stack是否为空，如果stack不为空表示，弹出函数在另一个函数的内部，将这个函数的占用时间减去内部函数的占用时间                         "
   ]
  },
  {
   "cell_type": "code",
   "execution_count": 12,
   "metadata": {
    "hidden": true,
    "scrolled": true
   },
   "outputs": [
    {
     "name": "stdout",
     "output_type": "stream",
     "text": [
      "[17, 9, 58, 7, 2, 4, 4, 14]\n"
     ]
    }
   ],
   "source": [
    "n = 8\n",
    "logs = [\"0:start:0\",\"1:start:5\",\"2:start:6\",\"3:start:9\",\"4:start:11\",\"5:start:12\",\"6:start:14\",\"7:start:15\",\n",
    "        \"1:start:24\",\"1:end:29\",\"7:end:34\",\"6:end:37\",\"5:end:39\",\"4:end:40\",\"3:end:45\",\n",
    "        \"2:end:100\",\"1:end:102\",\"0:end:114\"]\n",
    "\n",
    "time = [0 for i in range(n)]\n",
    "stack = []\n",
    "for log in logs:\n",
    "    id, sign, t = log.split(':')\n",
    "    if sign == 'start':\n",
    "        stack.append([int(id),int(t)])\n",
    "    else:\n",
    "        temp = stack.pop()\n",
    "        T = int(t)-temp[1]+1\n",
    "        time[temp[0]] += T  #当有end进程，根据上一个进程计算时间\n",
    "        if stack:\n",
    "            time[stack[-1][0]] -= T\n",
    "print(time)"
   ]
  },
  {
   "cell_type": "markdown",
   "metadata": {
    "heading_collapsed": true,
    "hidden": true
   },
   "source": [
    "## NO.739 每日温度"
   ]
  },
  {
   "cell_type": "markdown",
   "metadata": {
    "hidden": true
   },
   "source": [
    "这道题与NO.394非常相似，甚至更简单；                      \n",
    "先建立一个栈用于存放T的索引，再用0初始化一个L存放结果；                  \n",
    "遍历T，每次将T的索引放入栈中；               \n",
    "如果栈不空并且栈顶索引对应的值小于当前遍历的值时，将栈顶索引对应的T位置进行赋值，并弹出栈顶元素；             \n",
    "以T=[73,74,75,71,69,72,76,73]为例，前面的73，74，75都满足while条件；            \n",
    "到75，71，69的时候，为递减，直到遇到72大于69，将索引为4的L进行赋值，再将4弹出栈，接下来将72与71及进行对比。。。"
   ]
  },
  {
   "cell_type": "code",
   "execution_count": 54,
   "metadata": {
    "hidden": true
   },
   "outputs": [
    {
     "name": "stdout",
     "output_type": "stream",
     "text": [
      "[1, 0, 0, 0, 0, 0, 0, 0]\n",
      "[1, 1, 0, 0, 0, 0, 0, 0]\n",
      "[1, 1, 0, 0, 1, 0, 0, 0]\n",
      "[1, 1, 0, 2, 1, 0, 0, 0]\n",
      "[1, 1, 0, 2, 1, 1, 0, 0]\n",
      "[1, 1, 4, 2, 1, 1, 0, 0]\n",
      "[1, 1, 4, 2, 1, 1, 0, 0]\n"
     ]
    }
   ],
   "source": [
    "T = [73,74,75,71,69,72,76,73]\n",
    "\n",
    "stack = []\n",
    "L = [0 for i in range(len(T))]\n",
    "for i in range(len(T)):\n",
    "    while stack and T[i]>T[stack[-1]]:\n",
    "        index = stack.pop()\n",
    "        L[index] = i-index\n",
    "        print(L)\n",
    "    stack.append(i)\n",
    "print(L)"
   ]
  },
  {
   "cell_type": "markdown",
   "metadata": {
    "heading_collapsed": true,
    "hidden": true
   },
   "source": [
    "## NO.856 括号的分数"
   ]
  },
  {
   "cell_type": "markdown",
   "metadata": {
    "hidden": true
   },
   "source": [
    "这道题还是使用栈来辅助求解，关键在于怎么判断一组括号包含另一组括号；                 \n",
    "遍历S，将'('依次进栈；                  \n",
    "当遍历到')'，查看此时的栈顶元素：           \n",
    "如果是栈顶元素是'('，表示此时括号是最内层的，将其替换为1；             \n",
    "否则的话栈顶元素是数字,表示有外层的括号，此使要找到最外层的括号，记录层数，同时将括号内的元素求和，之后将栈顶的'('弹出，将分数乘以2；   \n",
    "最终将栈内元素求和就是结果"
   ]
  },
  {
   "cell_type": "code",
   "execution_count": 3,
   "metadata": {
    "hidden": true
   },
   "outputs": [
    {
     "name": "stdout",
     "output_type": "stream",
     "text": [
      "8\n"
     ]
    }
   ],
   "source": [
    "S = '((()()))'\n",
    "\n",
    "stack = []\n",
    "score = 0\n",
    "for s in S:\n",
    "    if s == '(':  #如果是'('，直接入栈\n",
    "        stack.append(s)\n",
    "    else:\n",
    "        if stack[-1] == '(':  #如果当前是')',并且前一个是'(',就将其作为数字1\n",
    "            stack.pop()\n",
    "            stack.append(1)  #将这组括号替换为1\n",
    "        else:  #当前的是')',前一个是')',表示括号内包含了另一组括号\n",
    "            num = 0  #num表示括号内包含的1的个数\n",
    "            while stack[-1] != '(':\n",
    "                num += stack.pop()  #将括号内的数求和\n",
    "            stack.pop()\n",
    "            stack.append(num*2)  #弹出栈顶元素，将括号内的和乘以2\n",
    "print(sum(stack))"
   ]
  },
  {
   "cell_type": "markdown",
   "metadata": {
    "heading_collapsed": true,
    "hidden": true
   },
   "source": [
    "## NO.1047 删除字符串中的所有相邻重复项"
   ]
  },
  {
   "cell_type": "markdown",
   "metadata": {
    "hidden": true
   },
   "source": [
    "一开始是先循环一遍S，如果有相邻元素是相同的就把这两个元素去掉，由于在原字符串上进行了删除，再在上面循环的话会出问题，因此每次只删除两个元素，果然，遇到很长的字符串是会超时；            \n",
    "正确的方法是使用一个栈，将字符串中的元素依次入栈，如果当前入栈的元素与栈顶元素不同就将其入栈，否则的话就入栈，并且将与其相同的栈顶元素删去，遍历原字符串一遍后，使用栈中的元素组成新的字符串，进行递归，如果一次遍历中没有遇到相同的元素，就将栈中的元素组成字符串作为结果返回"
   ]
  },
  {
   "cell_type": "code",
   "execution_count": 36,
   "metadata": {
    "hidden": true
   },
   "outputs": [
    {
     "name": "stdout",
     "output_type": "stream",
     "text": [
      "消去所有相邻相同的元素后的结果为：abak\n"
     ]
    }
   ],
   "source": [
    "S = 'abddbaabaaak'\n",
    "def removeDuplicates(S):\n",
    "    sign = True\n",
    "    stack = []\n",
    "    for s in S:\n",
    "        if len(stack)==0 or s!=stack[-1]:\n",
    "            stack.append(s)\n",
    "        else:\n",
    "            stack.pop()\n",
    "            sign = False\n",
    "    S = ''.join(stack)\n",
    "    if sign:\n",
    "        return S\n",
    "    return removeDuplicates(S)\n",
    "\n",
    "l = removeDuplicates(S)\n",
    "print(f'消去所有相邻相同的元素后的结果为：{l}')"
   ]
  },
  {
   "cell_type": "markdown",
   "metadata": {
    "heading_collapsed": true
   },
   "source": [
    "# 二叉树"
   ]
  },
  {
   "cell_type": "code",
   "execution_count": null,
   "metadata": {
    "hidden": true
   },
   "outputs": [],
   "source": []
  }
 ],
 "metadata": {
  "kernelspec": {
   "display_name": "Python 3",
   "language": "python",
   "name": "python3"
  },
  "language_info": {
   "codemirror_mode": {
    "name": "ipython",
    "version": 3
   },
   "file_extension": ".py",
   "mimetype": "text/x-python",
   "name": "python",
   "nbconvert_exporter": "python",
   "pygments_lexer": "ipython3",
   "version": "3.7.1"
  },
  "toc": {
   "base_numbering": 1,
   "nav_menu": {},
   "number_sections": true,
   "sideBar": false,
   "skip_h1_title": false,
   "title_cell": "Table of Contents",
   "title_sidebar": "Contents",
   "toc_cell": false,
   "toc_position": {
    "height": "885.6px",
    "left": "878px",
    "top": "84px",
    "width": "245.75px"
   },
   "toc_section_display": false,
   "toc_window_display": true
  }
 },
 "nbformat": 4,
 "nbformat_minor": 2
}
